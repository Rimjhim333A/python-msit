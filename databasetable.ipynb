{
 "cells": [
  {
   "cell_type": "code",
   "execution_count": 5,
   "metadata": {},
   "outputs": [
    {
     "name": "stdout",
     "output_type": "stream",
     "text": [
      "table is succesfully created\n"
     ]
    }
   ],
   "source": [
    "import mysql.connector\n",
    "\n",
    "db=mysql.connector.connect(\n",
    "    host=\"localhost\",\n",
    "    user=\"root\",\n",
    "    password=\"\",\n",
    "    database=\"msit\"\n",
    ")\n",
    "mysql_query= db.cursor()\n",
    "mysql_query.execute(\"CREATE TABLE customer_5 (id INT AUTO_INCREMENT PRIMARY KEY, name VARCHAR(255),address VARCHAR(255),email VARCHAR(100))\")\n",
    "print(\"table is succesfully created\")"
   ]
  },
  {
   "cell_type": "code",
   "execution_count": 2,
   "metadata": {},
   "outputs": [
    {
     "name": "stdout",
     "output_type": "stream",
     "text": [
      "1 record inserted.\n"
     ]
    }
   ],
   "source": [
    "import mysql.connector\n",
    "\n",
    "mydb=mysql.connector.connect(\n",
    "    host=\"localhost\",\n",
    "    user=\"root\",\n",
    "    password=\"\",\n",
    "    database=\"MSIT\"\n",
    ")\n",
    "mycursor=mydb.cursor()\n",
    "sql=\"INSERT INTO customer_5(name,address,email) VALUES(%s,%s,%s)\"\n",
    "a=str(input(\"Enter your name\"))\n",
    "b=str(input(\"Enter your address \"))\n",
    "c=str(input(\"Enter your email\"))\n",
    "val=(a,b,c)\n",
    "val=(\"test1\",\"address\",\"test1@gmail.com\")\n",
    "mycursor.execute(sql,val)\n",
    "\n",
    "sql_2=\"INSERT INTO customer_students(name,address,email,gender) VALUES(%s,%s,%s,%s)\"\n",
    "val_2=(\"test1\",\"address\",\"test1@gmail.com\", \"gender\")\n",
    "a=str(input(\"Enter your name\"))\n",
    "b=str(input(\"Enter your address \"))\n",
    "c=str(input(\"Enter your email\"))\n",
    "d=str(input(\"Enter your gender\"))\n",
    "val=(a,b,c,d)\n",
    "mycursor.execute(sql_2,val_2)\n",
    "\n",
    "mydb.commit()\n",
    "print(mycursor.rowcount,\"record inserted.\")"
   ]
  },
  {
   "cell_type": "code",
   "execution_count": null,
   "metadata": {},
   "outputs": [],
   "source": [
    " import mysql.connector\n",
    "\n",
    "mydb = mysql.connector.connect(\n",
    "  host=\"localhost\",\n",
    "  user=\"root\",\n",
    "  password=\"\",\n",
    "  database=\"msit\"\n",
    ")\n",
    "\n",
    "mycursor = mydb.cursor()\n",
    "\n",
    "mycursor.execute(\"SELECT * FROM customers_51\")\n",
    "\n",
    "myresult = mycursor.fetchall()\n",
    "\n",
    "for x in myresult:\n",
    "  print(x)\n",
    "\n",
    "\n",
    "\n",
    "\n",
    "\n",
    "\n"
   ]
  },
  {
   "cell_type": "code",
   "execution_count": null,
   "metadata": {},
   "outputs": [],
   "source": [
    "import mysql.connector\n",
    "\n",
    "mydb = mysql.connector.connect(\n",
    "  host=\"localhost\",\n",
    "  user=\"root\",\n",
    "  password=\"\",\n",
    "  database=\"msit\"\n",
    ")\n",
    "\n",
    "mycursor = mydb.cursor()\n",
    "\n",
    "sql = \"SELECT * FROM customers_students WHERE gender ='Male'\"\n",
    "\n",
    "mycursor.execute(sql)\n",
    "\n",
    "myresult = mycursor.fetchall()\n",
    "\n",
    "for x in myresult:\n",
    "  print(x)"
   ]
  },
  {
   "cell_type": "code",
   "execution_count": null,
   "metadata": {},
   "outputs": [],
   "source": [
    "import mysql.connector\n",
    "\n",
    "mydb = mysql.connector.connect(\n",
    "  host=\"localhost\",\n",
    "  user=\"root\",\n",
    "  password=\"\",\n",
    "  database=\"msit\"\n",
    ")\n",
    "\n",
    "mycursor = mydb.cursor()\n",
    "\n",
    "sql = \"DELETE FROM customers_students WHERE address = %s\"\n",
    "adr = (\"Kolkata\", )\n",
    "\n",
    "\n",
    "mycursor.execute(sql, adr)\n",
    "\n",
    "mydb.commit()\n",
    "\n",
    "print(mycursor.rowcount, \"record(s) deleted\")"
   ]
  }
 ],
 "metadata": {
  "kernelspec": {
   "display_name": "Python 3",
   "language": "python",
   "name": "python3"
  },
  "language_info": {
   "codemirror_mode": {
    "name": "ipython",
    "version": 3
   },
   "file_extension": ".py",
   "mimetype": "text/x-python",
   "name": "python",
   "nbconvert_exporter": "python",
   "pygments_lexer": "ipython3",
   "version": "3.11.4"
  },
  "orig_nbformat": 4
 },
 "nbformat": 4,
 "nbformat_minor": 2
}
